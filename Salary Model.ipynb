{
 "cells": [
  {
   "cell_type": "code",
   "execution_count": 1,
   "metadata": {},
   "outputs": [],
   "source": [
    "#Import libraries\n",
    "import pandas as pd\n",
    "import numpy as np\n",
    "import matplotlib.pyplot as plt\n",
    "import seaborn as sns\n",
    "from sklearn.impute import SimpleImputer\n",
    "from sklearn.model_selection import train_test_split\n",
    "from sklearn.linear_model import LinearRegression\n",
    "from sklearn.preprocessing import PolynomialFeatures\n",
    "from sklearn.ensemble import RandomForestRegressor\n",
    "from sklearn.metrics import mean_squared_error, r2_score"
   ]
  },
  {
   "cell_type": "code",
   "execution_count": 2,
   "metadata": {},
   "outputs": [
    {
     "data": {
      "text/html": [
       "<div>\n",
       "<style scoped>\n",
       "    .dataframe tbody tr th:only-of-type {\n",
       "        vertical-align: middle;\n",
       "    }\n",
       "\n",
       "    .dataframe tbody tr th {\n",
       "        vertical-align: top;\n",
       "    }\n",
       "\n",
       "    .dataframe thead th {\n",
       "        text-align: right;\n",
       "    }\n",
       "</style>\n",
       "<table border=\"1\" class=\"dataframe\">\n",
       "  <thead>\n",
       "    <tr style=\"text-align: right;\">\n",
       "      <th></th>\n",
       "      <th>Age</th>\n",
       "      <th>Gender</th>\n",
       "      <th>Education Level</th>\n",
       "      <th>Job Title</th>\n",
       "      <th>Years of Experience</th>\n",
       "      <th>Salary</th>\n",
       "      <th>Country</th>\n",
       "      <th>Race</th>\n",
       "    </tr>\n",
       "  </thead>\n",
       "  <tbody>\n",
       "    <tr>\n",
       "      <th>0</th>\n",
       "      <td>32.0</td>\n",
       "      <td>Male</td>\n",
       "      <td>Bachelor's</td>\n",
       "      <td>Software Engineer</td>\n",
       "      <td>5.0</td>\n",
       "      <td>90000.0</td>\n",
       "      <td>UK</td>\n",
       "      <td>White</td>\n",
       "    </tr>\n",
       "    <tr>\n",
       "      <th>1</th>\n",
       "      <td>28.0</td>\n",
       "      <td>Female</td>\n",
       "      <td>Master's</td>\n",
       "      <td>Data Analyst</td>\n",
       "      <td>3.0</td>\n",
       "      <td>65000.0</td>\n",
       "      <td>USA</td>\n",
       "      <td>Hispanic</td>\n",
       "    </tr>\n",
       "    <tr>\n",
       "      <th>2</th>\n",
       "      <td>45.0</td>\n",
       "      <td>Male</td>\n",
       "      <td>PhD</td>\n",
       "      <td>Senior Manager</td>\n",
       "      <td>15.0</td>\n",
       "      <td>150000.0</td>\n",
       "      <td>Canada</td>\n",
       "      <td>White</td>\n",
       "    </tr>\n",
       "    <tr>\n",
       "      <th>3</th>\n",
       "      <td>36.0</td>\n",
       "      <td>Female</td>\n",
       "      <td>Bachelor's</td>\n",
       "      <td>Sales Associate</td>\n",
       "      <td>7.0</td>\n",
       "      <td>60000.0</td>\n",
       "      <td>USA</td>\n",
       "      <td>Hispanic</td>\n",
       "    </tr>\n",
       "    <tr>\n",
       "      <th>4</th>\n",
       "      <td>52.0</td>\n",
       "      <td>Male</td>\n",
       "      <td>Master's</td>\n",
       "      <td>Director</td>\n",
       "      <td>20.0</td>\n",
       "      <td>200000.0</td>\n",
       "      <td>USA</td>\n",
       "      <td>Asian</td>\n",
       "    </tr>\n",
       "  </tbody>\n",
       "</table>\n",
       "</div>"
      ],
      "text/plain": [
       "    Age  Gender Education Level          Job Title  Years of Experience  \\\n",
       "0  32.0    Male      Bachelor's  Software Engineer                  5.0   \n",
       "1  28.0  Female        Master's       Data Analyst                  3.0   \n",
       "2  45.0    Male             PhD     Senior Manager                 15.0   \n",
       "3  36.0  Female      Bachelor's    Sales Associate                  7.0   \n",
       "4  52.0    Male        Master's           Director                 20.0   \n",
       "\n",
       "     Salary Country      Race  \n",
       "0   90000.0      UK     White  \n",
       "1   65000.0     USA  Hispanic  \n",
       "2  150000.0  Canada     White  \n",
       "3   60000.0     USA  Hispanic  \n",
       "4  200000.0     USA     Asian  "
      ]
     },
     "execution_count": 2,
     "metadata": {},
     "output_type": "execute_result"
    }
   ],
   "source": [
    "#Read csv file\n",
    "df = pd.read_csv(\"Salary_Data_Based_country_and_race.csv\")\n",
    "df.drop(columns=df.columns[[0,9,10]], inplace=True)\n",
    "df.head()"
   ]
  },
  {
   "cell_type": "code",
   "execution_count": 3,
   "metadata": {},
   "outputs": [
    {
     "name": "stdout",
     "output_type": "stream",
     "text": [
      "<class 'pandas.core.frame.DataFrame'>\n",
      "RangeIndex: 6704 entries, 0 to 6703\n",
      "Data columns (total 8 columns):\n",
      " #   Column               Non-Null Count  Dtype  \n",
      "---  ------               --------------  -----  \n",
      " 0   Age                  6702 non-null   float64\n",
      " 1   Gender               6702 non-null   object \n",
      " 2   Education Level      6701 non-null   object \n",
      " 3   Job Title            6702 non-null   object \n",
      " 4   Years of Experience  6701 non-null   float64\n",
      " 5   Salary               6699 non-null   float64\n",
      " 6   Country              6704 non-null   object \n",
      " 7   Race                 6704 non-null   object \n",
      "dtypes: float64(3), object(5)\n",
      "memory usage: 419.1+ KB\n"
     ]
    }
   ],
   "source": [
    "#Datatype of columns\n",
    "df.info()"
   ]
  },
  {
   "cell_type": "code",
   "execution_count": 4,
   "metadata": {},
   "outputs": [
    {
     "data": {
      "text/html": [
       "<div>\n",
       "<style scoped>\n",
       "    .dataframe tbody tr th:only-of-type {\n",
       "        vertical-align: middle;\n",
       "    }\n",
       "\n",
       "    .dataframe tbody tr th {\n",
       "        vertical-align: top;\n",
       "    }\n",
       "\n",
       "    .dataframe thead th {\n",
       "        text-align: right;\n",
       "    }\n",
       "</style>\n",
       "<table border=\"1\" class=\"dataframe\">\n",
       "  <thead>\n",
       "    <tr style=\"text-align: right;\">\n",
       "      <th></th>\n",
       "      <th>Age</th>\n",
       "      <th>Gender</th>\n",
       "      <th>Education Level</th>\n",
       "      <th>Job Title</th>\n",
       "      <th>Years of Experience</th>\n",
       "      <th>Salary</th>\n",
       "      <th>Country</th>\n",
       "      <th>Race</th>\n",
       "    </tr>\n",
       "  </thead>\n",
       "  <tbody>\n",
       "    <tr>\n",
       "      <th>172</th>\n",
       "      <td>NaN</td>\n",
       "      <td>NaN</td>\n",
       "      <td>NaN</td>\n",
       "      <td>NaN</td>\n",
       "      <td>NaN</td>\n",
       "      <td>NaN</td>\n",
       "      <td>UK</td>\n",
       "      <td>White</td>\n",
       "    </tr>\n",
       "    <tr>\n",
       "      <th>260</th>\n",
       "      <td>NaN</td>\n",
       "      <td>NaN</td>\n",
       "      <td>NaN</td>\n",
       "      <td>NaN</td>\n",
       "      <td>NaN</td>\n",
       "      <td>NaN</td>\n",
       "      <td>Canada</td>\n",
       "      <td>White</td>\n",
       "    </tr>\n",
       "    <tr>\n",
       "      <th>2011</th>\n",
       "      <td>27.0</td>\n",
       "      <td>Male</td>\n",
       "      <td>NaN</td>\n",
       "      <td>Developer</td>\n",
       "      <td>7.0</td>\n",
       "      <td>100000.0</td>\n",
       "      <td>UK</td>\n",
       "      <td>White</td>\n",
       "    </tr>\n",
       "    <tr>\n",
       "      <th>3136</th>\n",
       "      <td>31.0</td>\n",
       "      <td>Male</td>\n",
       "      <td>Master's Degree</td>\n",
       "      <td>Full Stack Engineer</td>\n",
       "      <td>8.0</td>\n",
       "      <td>NaN</td>\n",
       "      <td>Canada</td>\n",
       "      <td>White</td>\n",
       "    </tr>\n",
       "    <tr>\n",
       "      <th>5247</th>\n",
       "      <td>26.0</td>\n",
       "      <td>Female</td>\n",
       "      <td>Bachelor's Degree</td>\n",
       "      <td>Social M</td>\n",
       "      <td>NaN</td>\n",
       "      <td>NaN</td>\n",
       "      <td>USA</td>\n",
       "      <td>White</td>\n",
       "    </tr>\n",
       "    <tr>\n",
       "      <th>6455</th>\n",
       "      <td>36.0</td>\n",
       "      <td>Male</td>\n",
       "      <td>Bachelor's Degree</td>\n",
       "      <td>Sales Director</td>\n",
       "      <td>6.0</td>\n",
       "      <td>NaN</td>\n",
       "      <td>Canada</td>\n",
       "      <td>White</td>\n",
       "    </tr>\n",
       "  </tbody>\n",
       "</table>\n",
       "</div>"
      ],
      "text/plain": [
       "       Age  Gender    Education Level            Job Title  \\\n",
       "172    NaN     NaN                NaN                  NaN   \n",
       "260    NaN     NaN                NaN                  NaN   \n",
       "2011  27.0    Male                NaN            Developer   \n",
       "3136  31.0    Male    Master's Degree  Full Stack Engineer   \n",
       "5247  26.0  Female  Bachelor's Degree             Social M   \n",
       "6455  36.0    Male  Bachelor's Degree       Sales Director   \n",
       "\n",
       "      Years of Experience    Salary Country   Race  \n",
       "172                   NaN       NaN      UK  White  \n",
       "260                   NaN       NaN  Canada  White  \n",
       "2011                  7.0  100000.0      UK  White  \n",
       "3136                  8.0       NaN  Canada  White  \n",
       "5247                  NaN       NaN     USA  White  \n",
       "6455                  6.0       NaN  Canada  White  "
      ]
     },
     "execution_count": 4,
     "metadata": {},
     "output_type": "execute_result"
    }
   ],
   "source": [
    "#Rows with null values\n",
    "df[df.isnull().any(axis=1)]"
   ]
  },
  {
   "cell_type": "code",
   "execution_count": 5,
   "metadata": {},
   "outputs": [
    {
     "data": {
      "image/png": "[encoded data removed]",
      "text/plain": [
       "<Figure size 1080x360 with 3 Axes>"
      ]
     },
     "metadata": {
      "needs_background": "light"
     },
     "output_type": "display_data"
    }
   ],
   "source": [
    "#Visualize distribution of numberical features\n",
    "fig, axes = plt.subplots(1, 3, figsize=(15, 5))\n",
    "\n",
    "axes[0].hist(df['Age'], bins=20, edgecolor='black', color='green')\n",
    "axes[0].set_title('Age Distribution', fontsize=15)\n",
    "axes[0].set_xlabel('Age')\n",
    "axes[0].set_ylabel('Frequency')\n",
    "\n",
    "axes[1].hist(df['Years of Experience'], bins=20, edgecolor='black', color='green')\n",
    "axes[1].set_title('Experience Distribution', fontsize=15)\n",
    "axes[1].set_xlabel('Years of Experience')\n",
    "axes[1].set_ylabel('Frequency')\n",
    "\n",
    "axes[2].hist(df['Salary'], bins=30, edgecolor='black', color='green')\n",
    "axes[2].set_title('Salary Distribution', fontsize=15)\n",
    "axes[2].set_xlabel('Salary')\n",
    "axes[2].set_ylabel('Frequency')\n",
    "\n",
    "fig.suptitle('Distribution of Numerical Features', fontsize=20, y=1.08)\n",
    "\n",
    "plt.subplots_adjust(wspace=0.4)\n",
    "\n",
    "plt.show()"
   ]
  },
  {
   "cell_type": "code",
   "execution_count": 6,
   "metadata": {},
   "outputs": [],
   "source": [
    "#Impute numerical features based on histogram\n",
    "df['Age'].fillna(df['Age'].median(), inplace=True)\n",
    "df['Years of Experience'].fillna(df['Years of Experience'].median(), inplace=True)\n",
    "df['Salary'].fillna(df['Salary'].mean(), inplace=True)"
   ]
  },
  {
   "cell_type": "code",
   "execution_count": 7,
   "metadata": {},
   "outputs": [
    {
     "data": {
      "image/png": "[encoded data removed]",
      "text/plain": [
       "<Figure size 1440x720 with 5 Axes>"
      ]
     },
     "metadata": {
      "needs_background": "light"
     },
     "output_type": "display_data"
    }
   ],
   "source": [
    "#Visualize distribution of categorical features\n",
    "fig, axes = plt.subplots(1, 5, figsize=(20, 10))\n",
    "\n",
    "sns.countplot(x='Gender', data=df, ax=axes[0])\n",
    "axes[0].set_xticklabels(axes[0].get_xticklabels(), rotation=90)\n",
    "axes[0].set_xlabel('Gender', labelpad=60)\n",
    "\n",
    "sns.countplot(x='Education Level', data=df, ax=axes[1])\n",
    "axes[1].set_xticklabels(axes[1].get_xticklabels(), rotation=90)\n",
    "\n",
    "sns.countplot(x='Job Title', data=df, ax=axes[2])\n",
    "axes[2].set_xticklabels([])\n",
    "axes[2].set_xlabel('Job Title (Categories Hidden)', labelpad=95)\n",
    "\n",
    "sns.countplot(x='Country', data=df, ax=axes[3])\n",
    "axes[3].set_xticklabels(axes[3].get_xticklabels(), rotation=90)\n",
    "axes[3].set_xlabel('Country', labelpad=50)\n",
    "\n",
    "sns.countplot(x='Race', data=df, ax=axes[4])\n",
    "axes[4].set_xticklabels(axes[4].get_xticklabels(), rotation=90)\n",
    "axes[4].set_xlabel('Race', labelpad=10)\n",
    "\n",
    "for ax in axes:\n",
    "    ax.set_ylabel('')\n",
    "\n",
    "fig.text(0.06, 0.5, 'Count', va='center', rotation='vertical', fontsize=10)\n",
    "\n",
    "plt.suptitle('Distribution of Categorical Features', fontsize=20)\n",
    "\n",
    "plt.show()"
   ]
  },
  {
   "cell_type": "code",
   "execution_count": 8,
   "metadata": {},
   "outputs": [
    {
     "name": "stdout",
     "output_type": "stream",
     "text": [
      "Male      3674\n",
      "Female    3014\n",
      "Other       14\n",
      "Name: Gender, dtype: int64\n",
      "\n",
      "\n",
      "Bachelor's Degree    2267\n",
      "Master's Degree      1573\n",
      "PhD                  1368\n",
      "Bachelor's            756\n",
      "High School           448\n",
      "Master's              288\n",
      "phD                     1\n",
      "Name: Education Level, dtype: int64\n",
      "\n",
      "\n",
      "Software Engineer             518\n",
      "Data Scientist                453\n",
      "Software Engineer Manager     376\n",
      "Data Analyst                  363\n",
      "Senior Project Engineer       318\n",
      "                             ... \n",
      "Account Manager                 1\n",
      "Help Desk Analyst               1\n",
      "Senior Training Specialist      1\n",
      "Junior Web Designer             1\n",
      "Supply Chain Analyst            1\n",
      "Name: Job Title, Length: 193, dtype: int64\n"
     ]
    }
   ],
   "source": [
    "#Check count of outlier categories\n",
    "gender = df['Gender'].value_counts()\n",
    "education = df['Education Level'].value_counts()\n",
    "job_title = df['Job Title'].value_counts()\n",
    "\n",
    "print(gender,'\\n\\n\\n',education,'\\n\\n\\n',job_title, sep='')\n"
   ]
  },
  {
   "cell_type": "code",
   "execution_count": 20,
   "metadata": {},
   "outputs": [
    {
     "data": {
      "image/png": "[encoded data removed]",
      "text/plain": [
       "<Figure size 432x288 with 1 Axes>"
      ]
     },
     "metadata": {
      "needs_background": "light"
     },
     "output_type": "display_data"
    }
   ],
   "source": [
    "#Replace outlier categories\n",
    "job_title_replace = df['Job Title'].value_counts()[df['Job Title'].value_counts() <= 10].index\n",
    "df['Job Title'] = df['Job Title'].replace(job_title_replace, 'Other')\n",
    "sns.countplot(x='Job Title', data=df)\n",
    "plt.xlabel('Job Categories')\n",
    "plt.ylabel('Count')\n",
    "plt.gca().set_xticklabels([])\n",
    "plt.show()\n"
   ]
  },
  {
   "cell_type": "code",
   "execution_count": 10,
   "metadata": {},
   "outputs": [],
   "source": [
    "#Remove outlier categories\n",
    "df = df[df['Gender'] != 'Other']\n",
    "df = df[df['Education Level'] != 'phD']"
   ]
  },
  {
   "cell_type": "code",
   "execution_count": 11,
   "metadata": {},
   "outputs": [],
   "source": [
    "#Categorical features imputation\n",
    "imputer = SimpleImputer(strategy='most_frequent')\n",
    "df['Gender'] = imputer.fit_transform(df[['Gender']])\n",
    "df['Education Level'] = imputer.fit_transform(df[['Education Level']])\n",
    "df['Job Title'] = imputer.fit_transform(df[['Job Title']])"
   ]
  },
  {
   "cell_type": "code",
   "execution_count": 12,
   "metadata": {},
   "outputs": [],
   "source": [
    "#Install binary encoding\n",
    "#!pip install category_encoders\n",
    "import category_encoders as ce"
   ]
  },
  {
   "cell_type": "code",
   "execution_count": 13,
   "metadata": {},
   "outputs": [],
   "source": [
    "#Categorical encoding\n",
    "columns_binary_encoding = ['Job Title']\n",
    "columns_onehot_encoding = ['Gender','Education Level','Country','Race']\n",
    "\n",
    "binary_encoder = ce.BinaryEncoder(cols=columns_binary_encoding)\n",
    "df_encoded = binary_encoder.fit_transform(df)\n",
    "df_encoded = pd.get_dummies(df_encoded, columns = columns_onehot_encoding, prefix = columns_onehot_encoding)"
   ]
  },
  {
   "cell_type": "markdown",
   "metadata": {},
   "source": [
    "Modeling"
   ]
  },
  {
   "cell_type": "code",
   "execution_count": 14,
   "metadata": {},
   "outputs": [],
   "source": [
    "#Split data, remove target\n",
    "x = df_encoded.drop('Salary', axis=1)\n",
    "y = df_encoded['Salary']\n",
    "\n",
    "x_train, x_test, y_train, y_test = train_test_split(x, y, test_size = 0.25)"
   ]
  },
  {
   "cell_type": "code",
   "execution_count": 15,
   "metadata": {},
   "outputs": [
    {
     "name": "stdout",
     "output_type": "stream",
     "text": [
      "Mean squared error: 619129609.5730429\n",
      "r-squared: 0.7766877146894684\n"
     ]
    }
   ],
   "source": [
    "#Linear Regression Model\n",
    "model1 = LinearRegression()\n",
    "model1.fit(x_train, y_train)\n",
    "\n",
    "y_pred = model1.predict(x_test)\n",
    "mse = mean_squared_error(y_test, y_pred)\n",
    "r2 = r2_score(y_test, y_pred)\n",
    "print('Mean squared error:',mse)\n",
    "print('r-squared:',r2)"
   ]
  },
  {
   "cell_type": "code",
   "execution_count": 16,
   "metadata": {},
   "outputs": [
    {
     "name": "stdout",
     "output_type": "stream",
     "text": [
      "Mean squared error: 214964756.857224\n",
      "r-squared: 0.9224649081989252\n"
     ]
    }
   ],
   "source": [
    "#Polynomial regression\n",
    "poly = PolynomialFeatures(degree=2)\n",
    "x_train_poly = poly.fit_transform(x_train)\n",
    "x_test_poly = poly.transform(x_test)\n",
    "model1.fit(x_train_poly, y_train)\n",
    "\n",
    "y_pred = model1.predict(x_test_poly)\n",
    "mse = mean_squared_error(y_test, y_pred)\n",
    "r2 = r2_score(y_test, y_pred)\n",
    "print('Mean squared error:',mse)\n",
    "print('r-squared:',r2)"
   ]
  },
  {
   "cell_type": "code",
   "execution_count": 17,
   "metadata": {},
   "outputs": [
    {
     "name": "stdout",
     "output_type": "stream",
     "text": [
      "Random Forest Mean Squared Error (MSE): 81555339.74831644\n",
      "Random Forest R-squared (R2): 0.97058401178546\n"
     ]
    }
   ],
   "source": [
    "#Random forest regression\n",
    "\n",
    "rf_model = RandomForestRegressor(n_estimators=100, random_state=42)\n",
    "\n",
    "# Fit the model to the training data\n",
    "rf_model.fit(x_train, y_train)\n",
    "\n",
    "# Make predictions\n",
    "y_rf_pred = rf_model.predict(x_test)\n",
    "\n",
    "# Evaluate the model\n",
    "rf_mse = mean_squared_error(y_test, y_rf_pred)\n",
    "rf_r2 = r2_score(y_test, y_rf_pred)\n",
    "\n",
    "print(f\"Random Forest Mean Squared Error (MSE): {rf_mse}\")\n",
    "print(f\"Random Forest R-squared (R2): {rf_r2}\")"
   ]
  },
  {
   "cell_type": "markdown",
   "metadata": {},
   "source": [
    "## Summary\n",
    "Current modeling shows that random forest regression produces the best fit to determine salary with the given features. However, mean squared error is still high with the model. Further data cleaning and model optimization should be explored. "
   ]
  }
 ],
 "metadata": {
  "kernelspec": {
   "display_name": "base",
   "language": "python",
   "name": "python3"
  },
  "language_info": {
   "codemirror_mode": {
    "name": "ipython",
    "version": 3
   },
   "file_extension": ".py",
   "mimetype": "text/x-python",
   "name": "python",
   "nbconvert_exporter": "python",
   "pygments_lexer": "ipython3",
   "version": "3.9.12"
  },
  "orig_nbformat": 4
 },
 "nbformat": 4,
 "nbformat_minor": 2
}
